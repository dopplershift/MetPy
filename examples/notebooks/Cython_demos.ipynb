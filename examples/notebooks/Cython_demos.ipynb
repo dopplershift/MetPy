{
 "cells": [
  {
   "cell_type": "code",
   "execution_count": 2,
   "metadata": {
    "collapsed": false
   },
   "outputs": [],
   "source": [
    "%load_ext Cython"
   ]
  },
  {
   "cell_type": "code",
   "execution_count": 4,
   "metadata": {
    "collapsed": false
   },
   "outputs": [],
   "source": [
    "%%cython\n",
    "def _dist_2(double x0, double y0, double x1, double y1):\n",
    "\n",
    "    return c_dist_2(x0, y0, x1, y1)\n",
    "\n",
    "cdef double c_dist_2(double x0, double y0, double x1, double y1):\n",
    "\n",
    "    cdef double d0\n",
    "    cdef double d1\n",
    "\n",
    "    d0 = x1 - x0\n",
    "    d1 = y1 - y0\n",
    "\n",
    "    return d0 * d0 + d1 * d1"
   ]
  },
  {
   "cell_type": "code",
   "execution_count": 5,
   "metadata": {
    "collapsed": false
   },
   "outputs": [
    {
     "name": "stdout",
     "output_type": "stream",
     "text": [
      "The slowest run took 6.44 times longer than the fastest. This could mean that an intermediate result is being cached.\n",
      "1000000 loops, best of 3: 477 ns per loop\n"
     ]
    }
   ],
   "source": [
    "%timeit _dist_2(1000, 1000, 5000, 5000)"
   ]
  },
  {
   "cell_type": "code",
   "execution_count": null,
   "metadata": {
    "collapsed": false
   },
   "outputs": [
    {
     "name": "stdout",
     "output_type": "stream",
     "text": [
      "The slowest run took 33.02 times longer than the fastest. This could mean that an intermediate result is being cached.\n",
      "10000 loops, best of 3: 36.7 µs per loop\n"
     ]
    }
   ],
   "source": [
    "from scipy.spatial.distance import euclidean\n",
    "\n",
    "%timeit euclidean([1000, 1000], [5000, 5000])"
   ]
  },
  {
   "cell_type": "code",
   "execution_count": 9,
   "metadata": {
    "collapsed": false
   },
   "outputs": [],
   "source": [
    "%%cython\n",
    "from libc.math cimport sqrt\n",
    "\n",
    "def _circumcircle_radius(pt1, pt2, pt3):\n",
    "    \n",
    "    x0, y0 = pt1\n",
    "    x1, y1 = pt2\n",
    "    x2, y2 = pt3\n",
    "    \n",
    "    return c_circumcircle_radius(x0, y0, x1, y1, x2, y2)\n",
    "\n",
    "cdef double c_dist_2(double x0, double y0, double x1, double y1):\n",
    "\n",
    "    cdef:\n",
    "        double d0 = x1 - x0\n",
    "        double d1 = y1 - y0\n",
    "\n",
    "    return d0 * d0 + d1 * d1\n",
    "\n",
    "cdef double _distance(double x0, double y0, double x1, double y1):\n",
    "    \n",
    "    return sqrt(c_dist_2(x0, y0, x1, y1))\n",
    "\n",
    "cdef double c_circumcircle_radius(double x0, double y0, double x1, double y1, double x2, double y2):\n",
    "\n",
    "    cdef:\n",
    "        double a = _distance(x0, y0, x1, y1)\n",
    "        double b = _distance(x1, y1, x2, y2)\n",
    "        double c = _distance(x2, y2, x0, y0)\n",
    "        double s = (a + b + c) * 0.5\n",
    "        double prod = s*(a+b-s)*(a+c-s)*(b+c-s)\n",
    "        double prod2 = a*b*c\n",
    "        double radius = prod2 * prod2 / (16*prod)\n",
    "\n",
    "    return radius"
   ]
  },
  {
   "cell_type": "code",
   "execution_count": 10,
   "metadata": {
    "collapsed": false
   },
   "outputs": [
    {
     "name": "stdout",
     "output_type": "stream",
     "text": [
      "The slowest run took 5.63 times longer than the fastest. This could mean that an intermediate result is being cached.\n",
      "1000000 loops, best of 3: 750 ns per loop\n"
     ]
    }
   ],
   "source": [
    "%timeit _circumcircle_radius([0, 0], [10.1, 10.1], [10, 0])"
   ]
  },
  {
   "cell_type": "code",
   "execution_count": 7,
   "metadata": {
    "collapsed": true
   },
   "outputs": [],
   "source": [
    "import math\n",
    "\n",
    "def dist_2(x0, y0, x1, y1):\n",
    "\n",
    "    d0 = x1 - x0\n",
    "    d1 = y1 - y0\n",
    "    return d0 * d0 + d1 * d1\n",
    "\n",
    "def distance(p0, p1):\n",
    "\n",
    "    return math.sqrt(dist_2(p0[0], p0[1], p1[0], p1[1]))\n",
    "\n",
    "def circumcircle_radius(pt0, pt1, pt2):\n",
    "\n",
    "    a = distance(pt0, pt1)\n",
    "    b = distance(pt1, pt2)\n",
    "    c = distance(pt2, pt0)\n",
    "\n",
    "    s = (a + b + c) * 0.5\n",
    "\n",
    "    prod = s * (s - a) * (s - b) * (s - c)\n",
    "    prod2 = a * b * c\n",
    "\n",
    "    radius = prod2 / (4 * math.sqrt(prod))\n",
    "\n",
    "    return radius"
   ]
  },
  {
   "cell_type": "code",
   "execution_count": 8,
   "metadata": {
    "collapsed": false
   },
   "outputs": [
    {
     "name": "stdout",
     "output_type": "stream",
     "text": [
      "100000 loops, best of 3: 5.21 µs per loop\n"
     ]
    }
   ],
   "source": [
    "%timeit circumcircle_radius([0, 0], [10.1, 10.1], [10, 0])"
   ]
  },
  {
   "cell_type": "code",
   "execution_count": 24,
   "metadata": {
    "collapsed": false
   },
   "outputs": [],
   "source": [
    "%%cython\n",
    "\n",
    "def _circumcenter(pt1, pt2, pt3):\n",
    "        \n",
    "    x0, y0 = pt1\n",
    "    x1, y1 = pt2\n",
    "    x2, y2 = pt3\n",
    "        \n",
    "    return c_circumcenter(x0, y0, x1, y1, x2, y2)\n",
    "\n",
    "cdef c_circumcenter(double x0, double y0, double x1, double y1, double x2, double y2):\n",
    "\n",
    "    cdef:\n",
    "        double bc_y_diff = y1 - y2\n",
    "        double ca_y_diff = y2 - y0\n",
    "        double ab_y_diff = y0 - y1\n",
    "        double d_inv = 0.5 / (x0 * bc_y_diff + x1 * ca_y_diff + x2 * ab_y_diff)\n",
    "        double a_mag = x0 * x0 + y0 * y0\n",
    "        double b_mag = x1 * x1 + y1 * y1\n",
    "        double c_mag = x2 * x2 + y2 * y2\n",
    "        double cx\n",
    "        double cy\n",
    "\n",
    "    cx = (a_mag * bc_y_diff + b_mag * ca_y_diff + c_mag * ab_y_diff) * d_inv\n",
    "    cy = (a_mag * (x2 - x1) + b_mag * (x0 - x2) + c_mag * (x1 - x0)) * d_inv\n",
    "    \n",
    "    return cx, cy\n"
   ]
  },
  {
   "cell_type": "code",
   "execution_count": 25,
   "metadata": {
    "collapsed": false
   },
   "outputs": [
    {
     "name": "stdout",
     "output_type": "stream",
     "text": [
      "The slowest run took 5.40 times longer than the fastest. This could mean that an intermediate result is being cached.\n",
      "1000000 loops, best of 3: 782 ns per loop\n"
     ]
    }
   ],
   "source": [
    "%timeit _circumcenter([0, 0], [10.1, 10.1], [10, 0])"
   ]
  },
  {
   "cell_type": "code",
   "execution_count": 27,
   "metadata": {
    "collapsed": false
   },
   "outputs": [],
   "source": [
    "def circumcenter(pt0, pt1, pt2):\n",
    "\n",
    "    a_x = pt0[0]\n",
    "    a_y = pt0[1]\n",
    "    b_x = pt1[0]\n",
    "    b_y = pt1[1]\n",
    "    c_x = pt2[0]\n",
    "    c_y = pt2[1]\n",
    "\n",
    "    bc_y_diff = b_y - c_y\n",
    "    ca_y_diff = c_y - a_y\n",
    "    ab_y_diff = a_y - b_y\n",
    "    cb_x_diff = c_x - b_x\n",
    "    ac_x_diff = a_x - c_x\n",
    "    ba_x_diff = b_x - a_x\n",
    "\n",
    "    d_div = (a_x * bc_y_diff + b_x * ca_y_diff + c_x * ab_y_diff)\n",
    "\n",
    "    if d_div == 0:\n",
    "        raise ZeroDivisionError\n",
    "\n",
    "    d_inv = 0.5 / (a_x * bc_y_diff + b_x * ca_y_diff + c_x * ab_y_diff)\n",
    "\n",
    "    a_mag = a_x * a_x + a_y * a_y\n",
    "    b_mag = b_x * b_x + b_y * b_y\n",
    "    c_mag = c_x * c_x + c_y * c_y\n",
    "\n",
    "    cx = (a_mag * bc_y_diff + b_mag * ca_y_diff + c_mag * ab_y_diff) * d_inv\n",
    "    cy = (a_mag * cb_x_diff + b_mag * ac_x_diff + c_mag * ba_x_diff) * d_inv\n",
    "\n",
    "    return cx, cy"
   ]
  },
  {
   "cell_type": "code",
   "execution_count": 28,
   "metadata": {
    "collapsed": false
   },
   "outputs": [
    {
     "name": "stdout",
     "output_type": "stream",
     "text": [
      "100000 loops, best of 3: 4.21 µs per loop\n"
     ]
    }
   ],
   "source": [
    "%timeit circumcenter([0, 0], [10.1, 10.1], [10, 0])"
   ]
  },
  {
   "cell_type": "code",
   "execution_count": null,
   "metadata": {
    "collapsed": true
   },
   "outputs": [],
   "source": []
  }
 ],
 "metadata": {
  "kernelspec": {
   "display_name": "Python 3",
   "language": "python",
   "name": "python3"
  },
  "language_info": {
   "codemirror_mode": {
    "name": "ipython",
    "version": 3
   },
   "file_extension": ".py",
   "mimetype": "text/x-python",
   "name": "python",
   "nbconvert_exporter": "python",
   "pygments_lexer": "ipython3",
   "version": "3.4.5"
  }
 },
 "nbformat": 4,
 "nbformat_minor": 0
}
