{
 "cells": [
  {
   "cell_type": "code",
   "execution_count": 109,
   "metadata": {
    "collapsed": false
   },
   "outputs": [
    {
     "name": "stdout",
     "output_type": "stream",
     "text": [
      "The Cython extension is already loaded. To reload it, use:\n",
      "  %reload_ext Cython\n"
     ]
    }
   ],
   "source": [
    "%load_ext Cython"
   ]
  },
  {
   "cell_type": "markdown",
   "metadata": {},
   "source": [
    "Implement circumcircle radius, circumcenter, and helper functions in cython"
   ]
  },
  {
   "cell_type": "code",
   "execution_count": 128,
   "metadata": {
    "collapsed": false
   },
   "outputs": [],
   "source": [
    "%%cython\n",
    "from libc.math cimport sqrt, fabs\n",
    "import cython\n",
    "import numpy as np\n",
    "from scipy.spatial import cKDTree\n",
    "\n",
    "\n",
    "def _area(pt1, pt2, pt3):\n",
    "    \n",
    "    cdef:\n",
    "        float x0\n",
    "        float y0\n",
    "        float x1\n",
    "        float y1\n",
    "        float x2\n",
    "        float y2\n",
    "    \n",
    "    x0, y0 = pt1\n",
    "    x1, y1 = pt2\n",
    "    x2, y2 = pt3\n",
    "    \n",
    "    return c_area(x0, y0, x1, y1, x2, y2)\n",
    "\n",
    "\n",
    "cdef double c_area(float x0, float y0, float x1, float y1, float x2, float y2):\n",
    "    \n",
    "    cdef float a\n",
    "\n",
    "    a = (x0 * y1 - x1 * y0) + (x1 * y2 - x2 * y1) + (x2 * y0 - x0 * y2)\n",
    "\n",
    "    return fabs(a) * 0.5\n",
    "\n",
    "def _circumcenter(pt0, pt1, pt2):\n",
    "\n",
    "\n",
    "    cdef:\n",
    "        float x0\n",
    "        float y0\n",
    "        float x1\n",
    "        float y1\n",
    "        float x2\n",
    "        float y2\n",
    "        float cx\n",
    "        float cy\n",
    "        \n",
    "    x0, y0 = pt0\n",
    "    x1, y1 = pt1\n",
    "    x2, y2 = pt2\n",
    "\n",
    "    c_circumcenter(&cx, &cy, x0, y0, x1, y1, x2, y2)\n",
    "    \n",
    "    return cx, cy\n",
    "\n",
    "\n",
    "cdef void c_circumcenter(float * cx, float * cy, float x0, float y0,\n",
    "                         float x1, float y1, float x2, float y2):\n",
    "    \n",
    "    cdef:\n",
    "        float bc_y_diff\n",
    "        float ca_y_diff\n",
    "        float ab_y_diff\n",
    "        float d_inv\n",
    "        float a_mag\n",
    "        float b_mag\n",
    "        float c_mag\n",
    "\n",
    "    bc_y_diff = y1 - y2\n",
    "    ca_y_diff = y2 - y0\n",
    "    ab_y_diff = y0 - y1\n",
    "    \n",
    "    d_inv = 0.5 / (x0 * bc_y_diff + x1 * ca_y_diff + x2 * ab_y_diff)\n",
    "    \n",
    "    a_mag = x0 * x0 + y0 * y0\n",
    "    b_mag = x1 * x1 + y1 * y1\n",
    "    c_mag = x2 * x2 + y2 * y2\n",
    "    \n",
    "    cx[0] = (a_mag * bc_y_diff + b_mag * ca_y_diff + c_mag * ab_y_diff) * d_inv\n",
    "    cy[0] = (a_mag * (x2 - x1) + b_mag * (x0 - x2) + c_mag * (x1 - x0)) * d_inv\n",
    "        \n",
    "\n",
    "@cython.cdivision(True)\n",
    "def _circumcircle_radius(pt1, pt2, pt3):\n",
    "    \n",
    "    cdef:\n",
    "        float x0\n",
    "        float y0\n",
    "        float x1\n",
    "        float y1\n",
    "        float x2\n",
    "        float y2\n",
    "        float a\n",
    "        \n",
    "    x0, y0 = pt1\n",
    "    x1, y1 = pt2\n",
    "    x2, y2 = pt3\n",
    "    \n",
    "    a = _area(pt1, pt2, pt3)\n",
    "    \n",
    "    return c_circumcircle_radius(x0, y0, x1, y1, x2, y2, a)\n",
    "\n",
    "\n",
    "cdef double c_dist_2(float x0, float y0, float x1, float y1):\n",
    "\n",
    "    cdef:\n",
    "        float d0\n",
    "        float d1\n",
    "\n",
    "    d0 = x1 - x0\n",
    "    d1 = y1 - y0\n",
    "    \n",
    "    return d0 * d0 + d1 * d1\n",
    "\n",
    "cdef double c_circumcircle_radius(float x0, float y0, float x1, \n",
    "                                  float y1, float x2, float y2,\n",
    "                                  float area):\n",
    "\n",
    "    cdef:\n",
    "        float a\n",
    "        float b\n",
    "        float c\n",
    "        float s\n",
    "        float prod\n",
    "        float radius\n",
    "    \n",
    "    radius = -99.00\n",
    "    \n",
    "    if area > 0:\n",
    "        \n",
    "        a = c_dist_2(x0, y0, x1, y1)\n",
    "        b = c_dist_2(x1, y1, x2, y2)\n",
    "        c = c_dist_2(x2, y2, x0, y0)\n",
    "\n",
    "        prod = a * b * c\n",
    "        \n",
    "        radius = sqrt(prod) / (4 * area)\n",
    "\n",
    "    return radius\n",
    "\n",
    "def _find_natural_neighbors(tri, grid_points):\n",
    "\n",
    "    tree = cKDTree(grid_points)\n",
    "\n",
    "    in_triangulation = tri.find_simplex(tree.data) >= 0\n",
    "\n",
    "    triangle_info = dict()\n",
    "\n",
    "    members = dict((key, []) for key in range(len(tree.data)))\n",
    "\n",
    "    for i in range(len(tri.simplices)):\n",
    "\n",
    "        ps = tri.points[tri.simplices[i]]\n",
    "        cc = _circumcenter(*ps)\n",
    "        r = _circumcircle_radius(*ps)\n",
    "\n",
    "        triangle_info[i] = {'cc': cc, 'r': r}\n",
    "\n",
    "        qualifiers = tree.query_ball_point(cc, r)\n",
    "\n",
    "        for qualifier in qualifiers:\n",
    "            if in_triangulation[qualifier]:\n",
    "                members[qualifier].append(i)\n",
    "\n",
    "    return members, triangle_info"
   ]
  },
  {
   "cell_type": "markdown",
   "metadata": {},
   "source": [
    "Implement the same functions in pure python"
   ]
  },
  {
   "cell_type": "code",
   "execution_count": 129,
   "metadata": {
    "collapsed": true
   },
   "outputs": [],
   "source": [
    "import math\n",
    "\n",
    "def circumcenter(pt0, pt1, pt2):\n",
    "\n",
    "    a_x = pt0[0]\n",
    "    a_y = pt0[1]\n",
    "    b_x = pt1[0]\n",
    "    b_y = pt1[1]\n",
    "    c_x = pt2[0]\n",
    "    c_y = pt2[1]\n",
    "\n",
    "    bc_y_diff = b_y - c_y\n",
    "    ca_y_diff = c_y - a_y\n",
    "    ab_y_diff = a_y - b_y\n",
    "    cb_x_diff = c_x - b_x\n",
    "    ac_x_diff = a_x - c_x\n",
    "    ba_x_diff = b_x - a_x\n",
    "\n",
    "    d_div = (a_x * bc_y_diff + b_x * ca_y_diff + c_x * ab_y_diff)\n",
    "\n",
    "    if d_div == 0:\n",
    "        raise ZeroDivisionError\n",
    "\n",
    "    d_inv = 0.5 / (a_x * bc_y_diff + b_x * ca_y_diff + c_x * ab_y_diff)\n",
    "\n",
    "    a_mag = a_x * a_x + a_y * a_y\n",
    "    b_mag = b_x * b_x + b_y * b_y\n",
    "    c_mag = c_x * c_x + c_y * c_y\n",
    "\n",
    "    cx = (a_mag * bc_y_diff + b_mag * ca_y_diff + c_mag * ab_y_diff) * d_inv\n",
    "    cy = (a_mag * cb_x_diff + b_mag * ac_x_diff + c_mag * ba_x_diff) * d_inv\n",
    "\n",
    "    return cx, cy\n",
    "\n",
    "\n",
    "def triangle_area(pt1, pt2, pt3):\n",
    "\n",
    "    a = 0.0\n",
    "    \n",
    "    x0, y0 = pt1\n",
    "    x1, y1 = pt2\n",
    "    x2, y2 = pt3\n",
    "\n",
    "    a = (x0 * y1 - x1 * y0) + (x1 * y2 - x2 * y1) + (x2 * y0 - x0 * y2)\n",
    "\n",
    "    return abs(a) / 2\n",
    "\n",
    "\n",
    "def dist_2(x0, y0, x1, y1):\n",
    "    d0 = x1 - x0\n",
    "    d1 = y1 - y0\n",
    "    return d0 * d0 + d1 * d1\n",
    "\n",
    "\n",
    "def distance(p0, p1):\n",
    "    return math.sqrt(dist_2(p0[0], p0[1], p1[0], p1[1]))\n",
    "\n",
    "\n",
    "def circumcircle_radius(pt0, pt1, pt2):\n",
    "    \n",
    "    a = distance(pt0, pt1)\n",
    "    b = distance(pt1, pt2)\n",
    "    c = distance(pt2, pt0)\n",
    "\n",
    "    t_area = triangle_area(pt0, pt1, pt2)\n",
    "\n",
    "    if t_area > 0:\n",
    "        prod = a * b * c\n",
    "\n",
    "        radius = prod / (4 * t_area)\n",
    "    else:\n",
    "        radius = np.nan\n",
    "\n",
    "    return radius"
   ]
  },
  {
   "cell_type": "markdown",
   "metadata": {},
   "source": [
    "Same functions but compiled with numba.jit"
   ]
  },
  {
   "cell_type": "code",
   "execution_count": 130,
   "metadata": {
    "collapsed": false
   },
   "outputs": [
    {
     "data": {
      "text/plain": [
       "array(<class 'float'>, 2d, C)"
      ]
     },
     "execution_count": 130,
     "metadata": {},
     "output_type": "execute_result"
    }
   ],
   "source": [
    "import numba\n",
    "\n",
    "numba.types.Array(float, 2, 'C')"
   ]
  },
  {
   "cell_type": "code",
   "execution_count": 140,
   "metadata": {
    "collapsed": false
   },
   "outputs": [],
   "source": [
    "import math\n",
    "import numba\n",
    "\n",
    "\n",
    "def j_circumcenter(pt0, pt1, pt2):\n",
    "\n",
    "    x0, y0 = pt0\n",
    "    x1, y1 = pt1\n",
    "    x2, y2 = pt2\n",
    "\n",
    "    return jj_circumcenter(x0, y0, x1, y1, x2, y2)\n",
    "\n",
    "@numba.jit(\"float64[2](float64, float64, float64, float64, float64, float64)\")\n",
    "def jj_circumcenter(x0, y0, x1, y1, x2, y2):\n",
    "    \n",
    "    bc_y_diff = y1 - y2\n",
    "    ca_y_diff = y2 - y0\n",
    "    ab_y_diff = y0 - y1\n",
    "    \n",
    "    d_inv = 0.5 / (x0 * bc_y_diff + x1 * ca_y_diff + x2 * ab_y_diff)\n",
    "    \n",
    "    a_mag = x0 * x0 + y0 * y0\n",
    "    b_mag = x1 * x1 + y1 * y1\n",
    "    c_mag = x2 * x2 + y2 * y2\n",
    "    \n",
    "    cx = (a_mag * bc_y_diff + b_mag * ca_y_diff + c_mag * ab_y_diff) * d_inv\n",
    "    cy = (a_mag * (x2 - x1) + b_mag * (x0 - x2) + c_mag * (x1 - x0)) * d_inv\n",
    "    \n",
    "    return cx, cy\n",
    "\n",
    "@numba.jit()\n",
    "def j_triangle_area(pt1, pt2, pt3):\n",
    "\n",
    "    a = 0.0\n",
    "    \n",
    "    x0, y0 = pt1\n",
    "    x1, y1 = pt2\n",
    "    x2, y2 = pt3\n",
    "\n",
    "    a = (x0 * y1 - x1 * y0) + (x1 * y2 - x2 * y1) + (x2 * y0 - x0 * y2)\n",
    "\n",
    "    return abs(a) / 2\n",
    "\n",
    "@numba.jit(\"float64(float64, float64, float64, float64)\")\n",
    "def j_dist_2(x0, y0, x1, y1):\n",
    "    d0 = x1 - x0\n",
    "    d1 = y1 - y0\n",
    "    return d0 * d0 + d1 * d1\n",
    "\n",
    "\n",
    "def j_distance(p0, p1):\n",
    "    return math.sqrt(j_dist_2(p0[0], p0[1], p1[0], p1[1]))\n",
    "\n",
    "@numba.jit()\n",
    "def j_circumcircle_radius(pt0, pt1, pt2):\n",
    "    \n",
    "    a = j_dist_2(pt0[0], pt0[1], pt1[0], pt1[1])\n",
    "    b = j_dist_2(pt1[0], pt1[1], pt2[0], pt2[1])\n",
    "    c = j_dist_2(pt2[0], pt2[1], pt0[0], pt0[1])\n",
    "\n",
    "    t_area = j_triangle_area(pt0, pt1, pt2)\n",
    "\n",
    "    if t_area > 0:\n",
    "        prod = a * b * c\n",
    "\n",
    "        radius = math.sqrt(prod) / (4 * t_area)\n",
    "    else:\n",
    "        radius = np.nan\n",
    "\n",
    "    return radius"
   ]
  },
  {
   "cell_type": "markdown",
   "metadata": {},
   "source": [
    "Use timeit to gauge the speed of the process"
   ]
  },
  {
   "cell_type": "code",
   "execution_count": 141,
   "metadata": {
    "collapsed": false
   },
   "outputs": [
    {
     "name": "stdout",
     "output_type": "stream",
     "text": [
      "python circumcircle radius: \n",
      "500 loops, best of 3: 4.91 µs per loop\n",
      "\n",
      "cython circumcircle radius: \n",
      "500 loops, best of 3: 422 ns per loop\n",
      "\n",
      "numba circumcircle radius: \n",
      "The slowest run took 286.17 times longer than the fastest. This could mean that an intermediate result is being cached.\n",
      "500 loops, best of 3: 4.18 µs per loop\n",
      "\n",
      "python circumcenter: \n",
      "500 loops, best of 3: 2.33 µs per loop\n",
      "\n",
      "cython circumcenter: \n",
      "500 loops, best of 3: 278 ns per loop\n",
      "\n",
      "numba circumcenter: \n",
      "500 loops, best of 3: 5.48 µs per loop\n",
      "\n",
      "Circumcircle Radius: 7.106511098985211\n",
      "\n",
      "Circumcenter: (5.05, 5.0)\n"
     ]
    }
   ],
   "source": [
    "from numpy.testing import assert_almost_equal\n",
    "\n",
    "p1 = [0.0, 0.0]\n",
    "p2 = [10.1, 10.0]\n",
    "p3 = [10.1, 0.0]\n",
    "\n",
    "print(\"python circumcircle radius: \")\n",
    "%timeit -n 500 circumcircle_radius(p1, p2, p3)\n",
    "\n",
    "print(\"\\ncython circumcircle radius: \")\n",
    "%timeit -n 500 _circumcircle_radius(p1, p2, p3)\n",
    "\n",
    "print(\"\\nnumba circumcircle radius: \")\n",
    "%timeit -n 500 j_circumcircle_radius(p1, p2, p3)\n",
    "\n",
    "print(\"\\npython circumcenter: \")\n",
    "%timeit -n 500 circumcenter(p1, p2, p3)\n",
    "\n",
    "print(\"\\ncython circumcenter: \")\n",
    "%timeit -n 500 _circumcenter(p1, p2, p3)\n",
    "\n",
    "print(\"\\nnumba circumcenter: \")\n",
    "%timeit -n 500 j_circumcenter(p1, p2, p3)\n",
    "\n",
    "assert_almost_equal(_circumcircle_radius(p1, p2, p3), circumcircle_radius(p1, p2, p3), 4)\n",
    "assert_almost_equal(_circumcircle_radius(p1, p2, p3), j_circumcircle_radius(p1, p2, p3), 4)\n",
    "\n",
    "assert_almost_equal(_circumcenter(p1, p2, p3), circumcenter(p1, p2, p3), 4)\n",
    "assert_almost_equal(_circumcenter(p1, p2, p3), j_circumcenter(p1, p2, p3), 4)\n",
    "\n",
    "print(\"\\nCircumcircle Radius:\", circumcircle_radius(p1, p2, p3))\n",
    "print(\"\\nCircumcenter:\", circumcenter(p1, p2, p3))"
   ]
  },
  {
   "cell_type": "code",
   "execution_count": 134,
   "metadata": {
    "collapsed": false
   },
   "outputs": [
    {
     "data": {
      "text/plain": [
       "((5.050000190734863, 5.0), (5.05, 5.0))"
      ]
     },
     "execution_count": 134,
     "metadata": {},
     "output_type": "execute_result"
    }
   ],
   "source": [
    "_circumcenter(p1, p2, p3), circumcenter(p1, p2, p3)"
   ]
  },
  {
   "cell_type": "code",
   "execution_count": 125,
   "metadata": {
    "collapsed": true
   },
   "outputs": [],
   "source": [
    "def find_natural_neighbors(tri, grid_points):\n",
    "\n",
    "    tree = cKDTree(grid_points)\n",
    "\n",
    "    in_triangulation = tri.find_simplex(tree.data) >= 0\n",
    "\n",
    "    triangle_info = dict()\n",
    "\n",
    "    members = dict((key, []) for key in range(len(tree.data)))\n",
    "\n",
    "    for i in range(len(tri.simplices)):\n",
    "\n",
    "        ps = tri.points[tri.simplices[i]]\n",
    "        \n",
    "        cc = circumcenter(ps[0], ps[1], ps[2])\n",
    "        r = circumcircle_radius(ps[0], ps[1], ps[2])\n",
    "\n",
    "        triangle_info[i] = {'cc': cc, 'r': r}\n",
    "\n",
    "        qualifiers = tree.query_ball_point(cc, r)\n",
    "\n",
    "        for qualifier in qualifiers:\n",
    "            if in_triangulation[qualifier]:\n",
    "                members[qualifier].append(i)\n",
    "\n",
    "    return members, triangle_info"
   ]
  },
  {
   "cell_type": "code",
   "execution_count": 127,
   "metadata": {
    "collapsed": false
   },
   "outputs": [
    {
     "name": "stdout",
     "output_type": "stream",
     "text": [
      "50 loops, best of 3: 1.64 ms per loop\n",
      "50 loops, best of 3: 1.93 ms per loop\n"
     ]
    }
   ],
   "source": [
    "from scipy.spatial import Delaunay\n",
    "\n",
    "x = np.array(list(range(0, 20, 4)), dtype=float)\n",
    "y = np.array(list(range(0, 20, 4)), dtype=float)\n",
    "gx, gy = np.meshgrid(x, y)\n",
    "pts = np.vstack([gx.ravel(), gy.ravel()]).T\n",
    "tri = Delaunay(pts)\n",
    "\n",
    "test_points = np.array([[2.0, 2.0], [5.0, 10.0], [12.0, 13.4], [12.0, 8.0], [20.0, 20.0]], dtype=float)\n",
    "\n",
    "%timeit -n 50 _find_natural_neighbors(tri, test_points)\n",
    "\n",
    "%timeit -n 50 find_natural_neighbors(tri, test_points)"
   ]
  },
  {
   "cell_type": "code",
   "execution_count": 107,
   "metadata": {
    "collapsed": false
   },
   "outputs": [],
   "source": [
    "from scipy.spatial.distance import euclidean\n",
    "\n",
    "p1 = np.array([0, 10, 0])\n",
    "p2 = np.array([10, 10, 0])\n",
    "p3 = np.array([10, 0, 0])\n",
    "\n",
    "def dist_lin(p1, p2, p3):\n",
    "    \n",
    "    a = np.linalg.norm(p1 - p2)\n",
    "    b = np.linalg.norm(p2 - p3)\n",
    "    c = np.linalg.norm(p3 - p1)\n",
    "\n",
    "    return (a*b*c) / (2 * np.cross((p1 - p2), (p2 - p3)))[2]\n",
    "    \n",
    "    \n",
    "\n"
   ]
  },
  {
   "cell_type": "code",
   "execution_count": 111,
   "metadata": {
    "collapsed": false
   },
   "outputs": [
    {
     "ename": "TypeError",
     "evalue": "_dist_2() takes exactly 4 positional arguments (3 given)",
     "output_type": "error",
     "traceback": [
      "\u001b[1;31m---------------------------------------------------------------------------\u001b[0m",
      "\u001b[1;31mTypeError\u001b[0m                                 Traceback (most recent call last)",
      "\u001b[1;32m<ipython-input-111-ca9fe0f18754>\u001b[0m in \u001b[0;36m<module>\u001b[1;34m()\u001b[0m\n\u001b[1;32m----> 1\u001b[1;33m \u001b[0mget_ipython\u001b[0m\u001b[1;33m(\u001b[0m\u001b[1;33m)\u001b[0m\u001b[1;33m.\u001b[0m\u001b[0mmagic\u001b[0m\u001b[1;33m(\u001b[0m\u001b[1;34m'timeit _dist_2(p1, p2, p3)'\u001b[0m\u001b[1;33m)\u001b[0m\u001b[1;33m\u001b[0m\u001b[0m\n\u001b[0m",
      "\u001b[1;32mC:\\Users\\Alex\\Anaconda3\\lib\\site-packages\\IPython\\core\\interactiveshell.py\u001b[0m in \u001b[0;36mmagic\u001b[1;34m(self, arg_s)\u001b[0m\n\u001b[0;32m   2161\u001b[0m         \u001b[0mmagic_name\u001b[0m\u001b[1;33m,\u001b[0m \u001b[0m_\u001b[0m\u001b[1;33m,\u001b[0m \u001b[0mmagic_arg_s\u001b[0m \u001b[1;33m=\u001b[0m \u001b[0marg_s\u001b[0m\u001b[1;33m.\u001b[0m\u001b[0mpartition\u001b[0m\u001b[1;33m(\u001b[0m\u001b[1;34m' '\u001b[0m\u001b[1;33m)\u001b[0m\u001b[1;33m\u001b[0m\u001b[0m\n\u001b[0;32m   2162\u001b[0m         \u001b[0mmagic_name\u001b[0m \u001b[1;33m=\u001b[0m \u001b[0mmagic_name\u001b[0m\u001b[1;33m.\u001b[0m\u001b[0mlstrip\u001b[0m\u001b[1;33m(\u001b[0m\u001b[0mprefilter\u001b[0m\u001b[1;33m.\u001b[0m\u001b[0mESC_MAGIC\u001b[0m\u001b[1;33m)\u001b[0m\u001b[1;33m\u001b[0m\u001b[0m\n\u001b[1;32m-> 2163\u001b[1;33m         \u001b[1;32mreturn\u001b[0m \u001b[0mself\u001b[0m\u001b[1;33m.\u001b[0m\u001b[0mrun_line_magic\u001b[0m\u001b[1;33m(\u001b[0m\u001b[0mmagic_name\u001b[0m\u001b[1;33m,\u001b[0m \u001b[0mmagic_arg_s\u001b[0m\u001b[1;33m)\u001b[0m\u001b[1;33m\u001b[0m\u001b[0m\n\u001b[0m\u001b[0;32m   2164\u001b[0m \u001b[1;33m\u001b[0m\u001b[0m\n\u001b[0;32m   2165\u001b[0m     \u001b[1;31m#-------------------------------------------------------------------------\u001b[0m\u001b[1;33m\u001b[0m\u001b[1;33m\u001b[0m\u001b[0m\n",
      "\u001b[1;32mC:\\Users\\Alex\\Anaconda3\\lib\\site-packages\\IPython\\core\\interactiveshell.py\u001b[0m in \u001b[0;36mrun_line_magic\u001b[1;34m(self, magic_name, line)\u001b[0m\n\u001b[0;32m   2082\u001b[0m                 \u001b[0mkwargs\u001b[0m\u001b[1;33m[\u001b[0m\u001b[1;34m'local_ns'\u001b[0m\u001b[1;33m]\u001b[0m \u001b[1;33m=\u001b[0m \u001b[0msys\u001b[0m\u001b[1;33m.\u001b[0m\u001b[0m_getframe\u001b[0m\u001b[1;33m(\u001b[0m\u001b[0mstack_depth\u001b[0m\u001b[1;33m)\u001b[0m\u001b[1;33m.\u001b[0m\u001b[0mf_locals\u001b[0m\u001b[1;33m\u001b[0m\u001b[0m\n\u001b[0;32m   2083\u001b[0m             \u001b[1;32mwith\u001b[0m \u001b[0mself\u001b[0m\u001b[1;33m.\u001b[0m\u001b[0mbuiltin_trap\u001b[0m\u001b[1;33m:\u001b[0m\u001b[1;33m\u001b[0m\u001b[0m\n\u001b[1;32m-> 2084\u001b[1;33m                 \u001b[0mresult\u001b[0m \u001b[1;33m=\u001b[0m \u001b[0mfn\u001b[0m\u001b[1;33m(\u001b[0m\u001b[1;33m*\u001b[0m\u001b[0margs\u001b[0m\u001b[1;33m,\u001b[0m\u001b[1;33m**\u001b[0m\u001b[0mkwargs\u001b[0m\u001b[1;33m)\u001b[0m\u001b[1;33m\u001b[0m\u001b[0m\n\u001b[0m\u001b[0;32m   2085\u001b[0m             \u001b[1;32mreturn\u001b[0m \u001b[0mresult\u001b[0m\u001b[1;33m\u001b[0m\u001b[0m\n\u001b[0;32m   2086\u001b[0m \u001b[1;33m\u001b[0m\u001b[0m\n",
      "\u001b[1;32m<decorator-gen-60>\u001b[0m in \u001b[0;36mtimeit\u001b[1;34m(self, line, cell)\u001b[0m\n",
      "\u001b[1;32mC:\\Users\\Alex\\Anaconda3\\lib\\site-packages\\IPython\\core\\magic.py\u001b[0m in \u001b[0;36m<lambda>\u001b[1;34m(f, *a, **k)\u001b[0m\n\u001b[0;32m    191\u001b[0m     \u001b[1;31m# but it's overkill for just that one bit of state.\u001b[0m\u001b[1;33m\u001b[0m\u001b[1;33m\u001b[0m\u001b[0m\n\u001b[0;32m    192\u001b[0m     \u001b[1;32mdef\u001b[0m \u001b[0mmagic_deco\u001b[0m\u001b[1;33m(\u001b[0m\u001b[0marg\u001b[0m\u001b[1;33m)\u001b[0m\u001b[1;33m:\u001b[0m\u001b[1;33m\u001b[0m\u001b[0m\n\u001b[1;32m--> 193\u001b[1;33m         \u001b[0mcall\u001b[0m \u001b[1;33m=\u001b[0m \u001b[1;32mlambda\u001b[0m \u001b[0mf\u001b[0m\u001b[1;33m,\u001b[0m \u001b[1;33m*\u001b[0m\u001b[0ma\u001b[0m\u001b[1;33m,\u001b[0m \u001b[1;33m**\u001b[0m\u001b[0mk\u001b[0m\u001b[1;33m:\u001b[0m \u001b[0mf\u001b[0m\u001b[1;33m(\u001b[0m\u001b[1;33m*\u001b[0m\u001b[0ma\u001b[0m\u001b[1;33m,\u001b[0m \u001b[1;33m**\u001b[0m\u001b[0mk\u001b[0m\u001b[1;33m)\u001b[0m\u001b[1;33m\u001b[0m\u001b[0m\n\u001b[0m\u001b[0;32m    194\u001b[0m \u001b[1;33m\u001b[0m\u001b[0m\n\u001b[0;32m    195\u001b[0m         \u001b[1;32mif\u001b[0m \u001b[0mcallable\u001b[0m\u001b[1;33m(\u001b[0m\u001b[0marg\u001b[0m\u001b[1;33m)\u001b[0m\u001b[1;33m:\u001b[0m\u001b[1;33m\u001b[0m\u001b[0m\n",
      "\u001b[1;32mC:\\Users\\Alex\\Anaconda3\\lib\\site-packages\\IPython\\core\\magics\\execution.py\u001b[0m in \u001b[0;36mtimeit\u001b[1;34m(self, line, cell)\u001b[0m\n\u001b[0;32m   1039\u001b[0m             \u001b[0mnumber\u001b[0m \u001b[1;33m=\u001b[0m \u001b[1;36m1\u001b[0m\u001b[1;33m\u001b[0m\u001b[0m\n\u001b[0;32m   1040\u001b[0m             \u001b[1;32mfor\u001b[0m \u001b[0m_\u001b[0m \u001b[1;32min\u001b[0m \u001b[0mrange\u001b[0m\u001b[1;33m(\u001b[0m\u001b[1;36m1\u001b[0m\u001b[1;33m,\u001b[0m \u001b[1;36m10\u001b[0m\u001b[1;33m)\u001b[0m\u001b[1;33m:\u001b[0m\u001b[1;33m\u001b[0m\u001b[0m\n\u001b[1;32m-> 1041\u001b[1;33m                 \u001b[0mtime_number\u001b[0m \u001b[1;33m=\u001b[0m \u001b[0mtimer\u001b[0m\u001b[1;33m.\u001b[0m\u001b[0mtimeit\u001b[0m\u001b[1;33m(\u001b[0m\u001b[0mnumber\u001b[0m\u001b[1;33m)\u001b[0m\u001b[1;33m\u001b[0m\u001b[0m\n\u001b[0m\u001b[0;32m   1042\u001b[0m                 \u001b[0mworst_tuning\u001b[0m \u001b[1;33m=\u001b[0m \u001b[0mmax\u001b[0m\u001b[1;33m(\u001b[0m\u001b[0mworst_tuning\u001b[0m\u001b[1;33m,\u001b[0m \u001b[0mtime_number\u001b[0m \u001b[1;33m/\u001b[0m \u001b[0mnumber\u001b[0m\u001b[1;33m)\u001b[0m\u001b[1;33m\u001b[0m\u001b[0m\n\u001b[0;32m   1043\u001b[0m                 \u001b[1;32mif\u001b[0m \u001b[0mtime_number\u001b[0m \u001b[1;33m>=\u001b[0m \u001b[1;36m0.2\u001b[0m\u001b[1;33m:\u001b[0m\u001b[1;33m\u001b[0m\u001b[0m\n",
      "\u001b[1;32mC:\\Users\\Alex\\Anaconda3\\lib\\site-packages\\IPython\\core\\magics\\execution.py\u001b[0m in \u001b[0;36mtimeit\u001b[1;34m(self, number)\u001b[0m\n\u001b[0;32m    135\u001b[0m         \u001b[0mgc\u001b[0m\u001b[1;33m.\u001b[0m\u001b[0mdisable\u001b[0m\u001b[1;33m(\u001b[0m\u001b[1;33m)\u001b[0m\u001b[1;33m\u001b[0m\u001b[0m\n\u001b[0;32m    136\u001b[0m         \u001b[1;32mtry\u001b[0m\u001b[1;33m:\u001b[0m\u001b[1;33m\u001b[0m\u001b[0m\n\u001b[1;32m--> 137\u001b[1;33m             \u001b[0mtiming\u001b[0m \u001b[1;33m=\u001b[0m \u001b[0mself\u001b[0m\u001b[1;33m.\u001b[0m\u001b[0minner\u001b[0m\u001b[1;33m(\u001b[0m\u001b[0mit\u001b[0m\u001b[1;33m,\u001b[0m \u001b[0mself\u001b[0m\u001b[1;33m.\u001b[0m\u001b[0mtimer\u001b[0m\u001b[1;33m)\u001b[0m\u001b[1;33m\u001b[0m\u001b[0m\n\u001b[0m\u001b[0;32m    138\u001b[0m         \u001b[1;32mfinally\u001b[0m\u001b[1;33m:\u001b[0m\u001b[1;33m\u001b[0m\u001b[0m\n\u001b[0;32m    139\u001b[0m             \u001b[1;32mif\u001b[0m \u001b[0mgcold\u001b[0m\u001b[1;33m:\u001b[0m\u001b[1;33m\u001b[0m\u001b[0m\n",
      "\u001b[1;32m<magic-timeit>\u001b[0m in \u001b[0;36minner\u001b[1;34m(_it, _timer)\u001b[0m\n",
      "\u001b[1;32m_cython_magic_a2470acae4a161ba73007dd4b0ddb03d.pyx\u001b[0m in \u001b[0;36m_cython_magic_a2470acae4a161ba73007dd4b0ddb03d._dist_2 (C:\\Users\\Alex\\.ipython\\cython\\_cython_magic_a2470acae4a161ba73007dd4b0ddb03d.c:700)\u001b[1;34m()\u001b[0m\n",
      "\u001b[1;31mTypeError\u001b[0m: _dist_2() takes exactly 4 positional arguments (3 given)"
     ]
    }
   ],
   "source": [
    "%timeit _dist_2(p1, p2, p3)"
   ]
  },
  {
   "cell_type": "code",
   "execution_count": null,
   "metadata": {
    "collapsed": true
   },
   "outputs": [],
   "source": [
    "def _circumcenter(pt1, pt2, pt3):\n",
    "        \n",
    "    cdef:\n",
    "        double x0\n",
    "        double y0\n",
    "        double x1\n",
    "        double y1\n",
    "        double x2\n",
    "        double y2\n",
    "        double cx\n",
    "        double cy\n",
    "        \n",
    "    x0 = pt1[0]\n",
    "    y0 = pt1[1]\n",
    "    x1 = pt2[0]\n",
    "    y1 = pt2[1]\n",
    "    x2 = pt3[0]\n",
    "    y2 = pt3[1]\n",
    "        \n",
    "    c_circumcenter(&cx, &cy, x0, y0, x1, y1, x2, y2)\n",
    "    \n",
    "    return cx, cy\n",
    "\n",
    "cdef void c_circumcenter(double * cx, double * cy, double x0, double y0, double x1, \n",
    "                         double y1, double x2, double y2):\n",
    "\n",
    "    cdef:\n",
    "        double bc_y_diff\n",
    "        double ca_y_diff\n",
    "        double ab_y_diff\n",
    "        double d_inv\n",
    "        double a_mag\n",
    "        double b_mag\n",
    "        double c_mag\n",
    "\n",
    "    bc_y_diff = y1 - y2\n",
    "    ca_y_diff = y2 - y0\n",
    "    ab_y_diff = y0 - y1\n",
    "    \n",
    "    d_inv = 0.5 / (x0 * bc_y_diff + x1 * ca_y_diff + x2 * ab_y_diff)\n",
    "    \n",
    "    a_mag = x0 * x0 + y0 * y0\n",
    "    b_mag = x1 * x1 + y1 * y1\n",
    "    c_mag = x2 * x2 + y2 * y2\n",
    "    \n",
    "    cx[0] = (a_mag * bc_y_diff + b_mag * ca_y_diff + c_mag * ab_y_diff) * d_inv\n",
    "    cy[0] = (a_mag * (x2 - x1) + b_mag * (x0 - x2) + c_mag * (x1 - x0)) * d_inv"
   ]
  }
 ],
 "metadata": {
  "kernelspec": {
   "display_name": "Python 3",
   "language": "python",
   "name": "python3"
  },
  "language_info": {
   "codemirror_mode": {
    "name": "ipython",
    "version": 3
   },
   "file_extension": ".py",
   "mimetype": "text/x-python",
   "name": "python",
   "nbconvert_exporter": "python",
   "pygments_lexer": "ipython3",
   "version": "3.5.2"
  }
 },
 "nbformat": 4,
 "nbformat_minor": 0
}
